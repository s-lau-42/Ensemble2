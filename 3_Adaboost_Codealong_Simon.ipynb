{
 "cells": [
  {
   "cell_type": "code",
   "execution_count": 1,
   "metadata": {},
   "outputs": [],
   "source": [
    "import pandas as pd\n",
    "import numpy as np\n",
    "from sklearn.tree import DecisionTreeClassifier\n",
    "from sklearn.model_selection import train_test_split\n",
    "from sklearn.datasets import make_hastie_10_2 #Generates data for binary classification used in Hastie et al. 2009, Example 10.2.\n",
    "import matplotlib.pyplot as plt"
   ]
  },
  {
   "cell_type": "code",
   "execution_count": 2,
   "metadata": {},
   "outputs": [],
   "source": [
    "from sklearn.naive_bayes import GaussianNB"
   ]
  },
  {
   "cell_type": "code",
   "execution_count": 34,
   "metadata": {},
   "outputs": [],
   "source": [
    "df = make_hastie_10_2(n_samples=300)\n",
    "X=df[0]\n",
    "y=df[1]\n"
   ]
  },
  {
   "cell_type": "code",
   "execution_count": 35,
   "metadata": {},
   "outputs": [],
   "source": [
    "X_train, X_test, y_train, y_test = train_test_split(X, y, test_size=0.5, random_state=13)"
   ]
  },
  {
   "cell_type": "code",
   "execution_count": 36,
   "metadata": {},
   "outputs": [
    {
     "data": {
      "text/plain": [
       "300"
      ]
     },
     "execution_count": 36,
     "metadata": {},
     "output_type": "execute_result"
    }
   ],
   "source": [
    "len(df[0])"
   ]
  },
  {
   "cell_type": "code",
   "execution_count": 37,
   "metadata": {},
   "outputs": [
    {
     "data": {
      "text/plain": [
       "array([ 1.,  1., -1., -1.,  1., -1.,  1., -1., -1., -1., -1.,  1.,  1.,\n",
       "       -1.,  1.,  1.,  1.,  1., -1.,  1., -1.,  1., -1., -1.,  1.,  1.,\n",
       "        1., -1., -1.,  1.,  1.,  1.,  1., -1., -1., -1., -1., -1.,  1.,\n",
       "        1.,  1.,  1.,  1.,  1.,  1., -1., -1.,  1.,  1.,  1., -1.,  1.,\n",
       "        1.,  1., -1., -1.,  1.,  1., -1., -1., -1., -1., -1., -1., -1.,\n",
       "       -1., -1.,  1.,  1., -1.,  1., -1., -1.,  1., -1.,  1.,  1., -1.,\n",
       "       -1.,  1., -1.,  1., -1., -1., -1., -1., -1., -1.,  1.,  1.,  1.,\n",
       "       -1., -1., -1.,  1.,  1.,  1., -1.,  1.,  1.,  1.,  1.,  1., -1.,\n",
       "        1., -1.,  1.,  1., -1., -1.,  1., -1., -1., -1.,  1.,  1.,  1.,\n",
       "       -1.,  1., -1., -1., -1.,  1.,  1.,  1.,  1., -1., -1., -1.,  1.,\n",
       "       -1.,  1., -1., -1.,  1.,  1.,  1., -1.,  1., -1., -1.,  1., -1.,\n",
       "        1., -1., -1., -1.,  1.,  1.,  1.])"
      ]
     },
     "execution_count": 37,
     "metadata": {},
     "output_type": "execute_result"
    }
   ],
   "source": [
    "y_train"
   ]
  },
  {
   "cell_type": "code",
   "execution_count": 38,
   "metadata": {},
   "outputs": [],
   "source": [
    "\"\"\" HELPER FUNCTION: GET ERROR RATE =========================================\"\"\"\n",
    "def get_error_rate(pred, Y):\n",
    "    return sum(pred != Y) / float(len(Y))\n",
    "# calculate the average number of errors"
   ]
  },
  {
   "cell_type": "code",
   "execution_count": 39,
   "metadata": {},
   "outputs": [],
   "source": [
    "\"\"\" HELPER FUNCTION: PRINT ERROR RATE =======================================\"\"\"\n",
    "def print_error_rate(err):\n",
    "    print ('Error rate: Training: %.4f - Test: %.4f' % err)\n",
    "\n",
    "# print the above"
   ]
  },
  {
   "cell_type": "code",
   "execution_count": 40,
   "metadata": {},
   "outputs": [],
   "source": [
    "\"\"\" HELPER FUNCTION: GENERIC CLASSIFIER =====================================\"\"\"\n",
    "def generic_clf(Y_train, X_train, Y_test, X_test, clf):\n",
    "    clf.fit(X_train,Y_train)\n",
    "    pred_train = clf.predict(X_train)\n",
    "    pred_test = clf.predict(X_test)\n",
    "    return get_error_rate(pred_train, Y_train), \\\n",
    "           get_error_rate(pred_test, Y_test)\n",
    "#fits train data into given model clf \n",
    "#,predicts the test data and returns the error function above for both train and test data"
   ]
  },
  {
   "cell_type": "code",
   "execution_count": 41,
   "metadata": {},
   "outputs": [],
   "source": [
    "\"\"\" ADABOOST IMPLEMENTATION =================================================\"\"\"\n",
    "def adaboost_clf(Y_train, X_train, Y_test, X_test, M, clf):\n",
    "    n_train, n_test = len(X_train), len(X_test)\n",
    "    # Initialize weights\n",
    "    w = np.ones(n_train) / n_train #array of length n_train with 1/n_train in each cell\n",
    "    pred_train, pred_test = [np.zeros(n_train), np.zeros(n_test)]#initial. pred arrays\n",
    "    \n",
    "    for i in range(M):\n",
    "        # Fit a classifier with the specific weights\n",
    "        clf.fit(X_train, Y_train, sample_weight = w) #model clf (variable) with weights w\n",
    "        pred_train_i = clf.predict(X_train)\n",
    "        pred_test_i = clf.predict(X_test)   #predicting new predictions based on the weight\n",
    "        # Indicator function\n",
    "        miss = [int(x) for x in (pred_train_i != Y_train)]  #fetching the number of predictions that were correct\n",
    "        # Equivalent with 1/-1 to update weights\n",
    "        miss2 = [x if x==1 else -1 for x in miss]  # normalizing said number\n",
    "        # Error\n",
    "        err_m = np.dot(w,miss) / sum(w) # calc. weight error as the scalar product of w and miss divided by the sum of weights\n",
    "        # Alpha\n",
    "        alpha_m = 0.5 * np.log( (1 - err_m) / float(err_m)) #weight for the classifier \n",
    "        # New weights\n",
    "        w = np.multiply(w, np.exp([float(x) * alpha_m for x in miss2]))\n",
    "        # Add to prediction\n",
    "        pred_train = [sum(x) for x in zip(pred_train, \n",
    "                                          [x * alpha_m for x in pred_train_i])]\n",
    "        pred_test = [sum(x) for x in zip(pred_test, \n",
    "                                         [x * alpha_m for x in pred_test_i])]  # new predictions by adding the weighted prediction\n",
    "    \n",
    "    pred_train, pred_test = np.sign(pred_train), np.sign(pred_test)\n",
    "    # Return error rate in train and test set\n",
    "    return get_error_rate(pred_train, Y_train), \\\n",
    "           get_error_rate(pred_test, Y_test)"
   ]
  },
  {
   "cell_type": "code",
   "execution_count": 42,
   "metadata": {},
   "outputs": [],
   "source": [
    "\"\"\" PLOT FUNCTION ===========================================================\"\"\"\n",
    "def plot_error_rate(er_train, er_test):\n",
    "    df_error = pd.DataFrame([er_train, er_test]).T\n",
    "    df_error.columns = ['Training', 'Test']\n",
    "    plot1 = df_error.plot(linewidth = 3, figsize = (8,6),\n",
    "            color = ['lightblue', 'darkblue'], grid = True)\n",
    "    plot1.set_xlabel('Number of iterations', fontsize = 12)\n",
    "    plot1.set_xticklabels(range(0,450,50))\n",
    "    plot1.set_ylabel('Error rate', fontsize = 12)\n",
    "    plot1.set_title('Error rate vs number of iterations', fontsize = 16)\n",
    "    plt.axhline(y=er_test[0], linewidth=1, color = 'red', ls = 'dashed')\n",
    "\n",
    "# plots the train and test errors against each other"
   ]
  },
  {
   "cell_type": "code",
   "execution_count": null,
   "metadata": {},
   "outputs": [],
   "source": []
  },
  {
   "cell_type": "code",
   "execution_count": 45,
   "metadata": {},
   "outputs": [
    {
     "data": {
      "text/plain": [
       "(0.07333333333333333, 0.11333333333333333)"
      ]
     },
     "execution_count": 45,
     "metadata": {},
     "output_type": "execute_result"
    }
   ],
   "source": [
    "adaboost_clf(y_train, X_train, y_test, X_test, 4, GaussianNB())"
   ]
  },
  {
   "cell_type": "code",
   "execution_count": 44,
   "metadata": {},
   "outputs": [
    {
     "data": {
      "text/plain": [
       "GaussianNB(priors=None, var_smoothing=1e-09)"
      ]
     },
     "execution_count": 44,
     "metadata": {},
     "output_type": "execute_result"
    }
   ],
   "source": [
    "\n",
    "GaussianNB().fit(X_train, y_train)"
   ]
  },
  {
   "cell_type": "code",
   "execution_count": null,
   "metadata": {},
   "outputs": [],
   "source": []
  },
  {
   "cell_type": "code",
   "execution_count": null,
   "metadata": {},
   "outputs": [],
   "source": []
  }
 ],
 "metadata": {
  "kernelspec": {
   "display_name": "Python [conda env:nf] *",
   "language": "python",
   "name": "conda-env-nf-py"
  },
  "language_info": {
   "codemirror_mode": {
    "name": "ipython",
    "version": 3
   },
   "file_extension": ".py",
   "mimetype": "text/x-python",
   "name": "python",
   "nbconvert_exporter": "python",
   "pygments_lexer": "ipython3",
   "version": "3.6.6"
  }
 },
 "nbformat": 4,
 "nbformat_minor": 2
}
